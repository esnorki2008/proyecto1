{
 "cells": [
  {
   "cell_type": "markdown",
   "metadata": {},
   "source": [
    "# Proyecto organizado en una clase"
   ]
  },
  {
   "cell_type": "code",
   "execution_count": 75,
   "metadata": {},
   "outputs": [],
   "source": [
    "import numpy as np\n",
    "import pandas as pd\n",
    "import seaborn as sns\n",
    "import matplotlib.pyplot as plt\n",
    "from sklearn.linear_model import LinearRegression\n",
    "\n",
    "class Project1:\n",
    "    \n",
    "    def __init__(self,data_name) -> None:\n",
    "        \n",
    "        #CONSTS\n",
    "        self.columns = [\"SalePrice\",\"OverallQuality\",\"1stFlrSquareFeet\",\"TotalRoomsAboveGrade\",\"YearBuilt\",\"LotFrontage\"]\n",
    "        self.y_key = \"SalePrice\"\n",
    "        #START READING FILE\n",
    "        print(f\"############### Cargando Archivo {data_name} ###############\")\n",
    "        data = self.load_data(data_name)\n",
    "        print(f\"############### Archivo {data_name} cargado ###############\")\n",
    "        #INIT DATAFRAMES\n",
    "        print(f\"############### Haciendo slicing ###############\")\n",
    "        self.df = pd.DataFrame(data,columns=self.columns)\n",
    "        sliced_data = self.slice_data(data)\n",
    "        self.df_training = sliced_data[0]\n",
    "        self.df_test = sliced_data[1]\n",
    "        print(f\"############### Slicing terminado ###############\")\n",
    "        \n",
    "        \n",
    "        \n",
    "    def load_data(self,data_name):\n",
    "        data = np.load(data_name)\n",
    "        print(f\"cantidad de registros {data.shape}\")\n",
    "        return data\n",
    "    \n",
    "    \n",
    "    def slice_data(self,data):\n",
    "        training_items = data.shape[0] * 80//100\n",
    "        testing_items = data.shape[0] - training_items \n",
    "        print(f\"cantidad de items para entrenamiento {training_items}, cantidad de items para pruebas {testing_items}\")\n",
    "\n",
    "        training_set = data[:training_items]\n",
    "        testing_set = data[training_items:]\n",
    "\n",
    "        df_training = pd.DataFrame(training_set,columns=self.columns)\n",
    "        df_test = pd.DataFrame(testing_set,columns=self.columns)\n",
    "        \n",
    "        return (df_training,df_test)\n",
    "    \n",
    "    def create_scatter_plot(self,x,y,x_name,y_name,title):\n",
    "        plt.scatter(x, y)\n",
    "        plt.xlabel(x_name)\n",
    "        plt.ylabel(y_name)\n",
    "        plt.title(title)\n",
    "        plt.show()\n",
    "    \n",
    "    def explore_data(self):\n",
    "        print(\"############### Analisis Exploratorio ###############\")\n",
    "        df = self.df\n",
    "        print(\"############### Media ###############\")\n",
    "        mean = df.mean()\n",
    "        print(mean)\n",
    "        print(\"############### Maximo ###############\")\n",
    "        mean = df.max()\n",
    "        print(mean)\n",
    "        print(\"############### Minimo ###############\")\n",
    "        mean = df.min()\n",
    "        print(mean)\n",
    "        print(\"############### Peak ###############\")\n",
    "        mean = df.max() - df.min()\n",
    "        print(mean)\n",
    "        print(\"############### Desviacion estandar ###############\")\n",
    "        mean = df.std()\n",
    "        print(mean)\n",
    "        print(\"############### FIN Exploratorio ###############\")\n",
    "        \n",
    "    \n",
    "    def histogram_show(self):\n",
    "        df = self.df\n",
    "        for column in df.columns:\n",
    "            plt.figure(figsize=(50, 20)) \n",
    "            sns.displot(df[column], bins=15, kde=True) \n",
    "            plt.title(f\"{column}'s Histogram\")\n",
    "            plt.xlabel(column)\n",
    "            plt.ylabel(\"Frequency\")\n",
    "            plt.show()\n",
    "    \n",
    "    def select_best_two_vars(self):\n",
    "        print(\"############### Para cada variable indenpendiente X ###############\")\n",
    "        \n",
    "        \n",
    "        \n",
    "        df = self.df\n",
    "        y_key = self.y_key\n",
    "        correlations = []\n",
    "        \n",
    "        for column in df.columns: \n",
    "            if(column == y_key):\n",
    "                continue\n",
    "            correlation = df[column].corr(df[y_key])\n",
    "            print(f\"variable: '{column}' correlacion: {correlation}\")\n",
    "            correlations.append((column,y_key,correlation))\n",
    "\n",
    "        correlations =  sorted(correlations, key=lambda x: x[2], reverse=True)\n",
    "\n",
    "        \n",
    "        for item in correlations:\n",
    "            print(item)\n",
    "            x_key = item[0]\n",
    "            y_key = item[1]\n",
    "            correlation = item[2]\n",
    "            self.create_scatter_plot(df[x_key],df[y_key],x_key,y_key,correlation)\n",
    "        \n",
    "        self.first_var = correlations[0]\n",
    "        self.second_var = correlations[1]\n",
    "        \n",
    "        print(f\"La mejor variable es: {self.first_var[0]}, con una correlacion de {self.first_var[2]}\")\n",
    "        print(f\"La segunda mejor variable es: {self.second_var[0]}, con una correlacion de {self.second_var[2]}\")\n",
    "        \n",
    "        print(\"############### Fin para cada variable indenpendiente X ###############\")\n",
    "    \n",
    "    def training_func(self,x,y,alpha, epochs = 200):\n",
    "        n = len(x)\n",
    "        \n",
    "        betas = np.array([0,0])\n",
    "        \n",
    "        y_hat = 0\n",
    "        \n",
    "        models = []\n",
    "        \n",
    "        for epoch in range(epochs) :\n",
    "\n",
    "            X_b = np.c_[np.ones((n, 1)), x] \n",
    "            y_hat = np.dot(X_b, betas)\n",
    "            \n",
    "            error_betas = np.array([np.sum((y_hat - y)),np.sum((y_hat - y)*x)])\n",
    "            error_betas = np.dot(1/n,error_betas)\n",
    "\n",
    "            betas = betas - alpha*error_betas\n",
    "\n",
    "            error = (1/(2*n)) *  np.sum((y - y_hat)**2)\n",
    "            \n",
    "            model = {\n",
    "                \"beta0\":betas[0],\n",
    "                \"beta1\":betas[1],\n",
    "            }\n",
    "            \n",
    "            models.append({\n",
    "                \"epoch\":epoch,\n",
    "                \"model\":model,\n",
    "                \"error\":error\n",
    "            })\n",
    "            \n",
    "        return {\n",
    "            \"final_beta0\":betas[0],\n",
    "            \"final_beta1\":betas[1],\n",
    "            \"models\":models,\n",
    "            \"prediction\":y_hat\n",
    "        }\n",
    "        \n",
    "    def graph_error(self,params):\n",
    "    \n",
    "        errors = []\n",
    "        for epoc in params[\"models\"]:\n",
    "            errors.append(epoc[\"error\"])\n",
    "        \n",
    "        plt.figure(figsize=(10, 6))\n",
    "        plt.plot(errors, marker='o', linestyle='-', color='blue')  \n",
    "        plt.title('Error por epoch') \n",
    "        plt.xlabel('Epochs') \n",
    "        plt.ylabel('Error') \n",
    "        plt.grid(True) \n",
    "        plt.show() \n",
    "\n",
    "\n",
    "    def graph_evolution(self,params,n):\n",
    "        if n < 0:\n",
    "            n = 1\n",
    "            \n",
    "        epochs = []\n",
    "        iter = 1\n",
    "        plt.figure(figsize=(10, 6))\n",
    "        \n",
    "        \n",
    "        plt_iters = []\n",
    "        plt_betas0 = []\n",
    "        plt_betas1 = []\n",
    "        \n",
    "        for epoch in params[\"models\"]:\n",
    "            if(n == iter):\n",
    "                epochs.append(epoch)\n",
    "                \n",
    "                model = epoch[\"model\"]\n",
    "                \n",
    "                iter_id = epoch[\"epoch\"]\n",
    "                \n",
    "                iter_beta0 = model[\"beta0\"]\n",
    "                iter_beta1 = model[\"beta1\"]\n",
    "                \n",
    "                plt_iters.append(iter_id)\n",
    "                plt_betas0.append(iter_beta0)\n",
    "                plt_betas1.append(iter_beta1)\n",
    "                \n",
    "                \n",
    "                iter = 1\n",
    "            else:\n",
    "                iter = iter + 1\n",
    "                \n",
    "        \n",
    "        plt.scatter( plt_iters,plt_betas0, color='blue', label='Beta 0')\n",
    "        plt.scatter( plt_iters,plt_betas1, color='red', label='Beta 1')\n",
    "        \n",
    "        \n",
    "        plt.title('Evolución del Modelo')\n",
    "        plt.xlabel('Iteracion')\n",
    "        plt.ylabel('Parametros')\n",
    "        plt.legend()\n",
    "        plt.show()\n",
    "        \n",
    "        \n",
    "    def predict_first_var(self):\n",
    "        X = self.df_training[\"OverallQuality\"]#1stFlrSquareFeet\n",
    "        \n",
    "        \n",
    "        \n",
    "        y = self.df_training[self.y_key]\n",
    "        alpha = 0.04312\n",
    "        epoch = 100\n",
    "        \n",
    "        #Manual training\n",
    "        manual_training = self.training_func(X,y,alpha,epoch)\n",
    "        \n",
    "        print(manual_training[\"final_beta1\"])\n",
    "        self.graph_error(manual_training)\n",
    "        self.graph_evolution(manual_training,3)\n",
    "        \n",
    "        #Scikit learn training"
   ]
  },
  {
   "cell_type": "code",
   "execution_count": 76,
   "metadata": {},
   "outputs": [
    {
     "name": "stdout",
     "output_type": "stream",
     "text": [
      "############### Cargando Archivo proyecto_training_data.npy ###############\n",
      "cantidad de registros (1460, 6)\n",
      "############### Archivo proyecto_training_data.npy cargado ###############\n",
      "############### Haciendo slicing ###############\n",
      "cantidad de items para entrenamiento 1168, cantidad de items para pruebas 292\n",
      "############### Slicing terminado ###############\n",
      "32544.12163492994\n"
     ]
    },
    {
     "data": {
      "image/png": "[encoded data removed]",
      "text/plain": [
       "<Figure size 1000x600 with 1 Axes>"
      ]
     },
     "metadata": {},
     "output_type": "display_data"
    },
    {
     "data": {
      "image/png": "[encoded data removed]",
      "text/plain": [
       "<Figure size 1000x600 with 1 Axes>"
      ]
     },
     "metadata": {},
     "output_type": "display_data"
    }
   ],
   "source": [
    "P = Project1(\"proyecto_training_data.npy\")\n",
    "#P.explore_data()\n",
    "#P.histogram_show()\n",
    "#P.select_best_two_vars()\n",
    "P.predict_first_var()"
   ]
  },
  {
   "cell_type": "code",
   "execution_count": null,
   "metadata": {},
   "outputs": [],
   "source": []
  },
  {
   "cell_type": "markdown",
   "metadata": {},
   "source": [
    "# Procedimiento de como se obtuvo el proyecto"
   ]
  },
  {
   "cell_type": "markdown",
   "metadata": {},
   "source": [
    "# Dependencias"
   ]
  },
  {
   "cell_type": "code",
   "execution_count": null,
   "metadata": {},
   "outputs": [],
   "source": [
    "import numpy as np\n",
    "import pandas as pd\n",
    "import seaborn as sns\n",
    "import matplotlib.pyplot as plt\n",
    "from sklearn.linear_model import LinearRegression"
   ]
  },
  {
   "cell_type": "markdown",
   "metadata": {},
   "source": [
    "# Cargar datos"
   ]
  },
  {
   "cell_type": "code",
   "execution_count": null,
   "metadata": {},
   "outputs": [],
   "source": [
    "data = np.load(\"proyecto_training_data.npy\")\n",
    "columns = [\"SalePrice\",\"OverallQuality\",\"1stFlrSquareFeet\",\"TotalRoomsAboveGrade\",\"YearBuilt\",\"LotFrontage\"]\n",
    "df = pd.DataFrame(data,columns=columns)\n",
    "print(f\"cantidad de registros {data.shape}\")"
   ]
  },
  {
   "cell_type": "markdown",
   "metadata": {},
   "source": [
    "# Slicing"
   ]
  },
  {
   "cell_type": "code",
   "execution_count": null,
   "metadata": {},
   "outputs": [],
   "source": [
    "training_items = data.shape[0] * 80//100\n",
    "testing_items = data.shape[0] - training_items \n",
    "print(f\"cantidad de items para entrenamiento {training_items}, cantidad de items para pruebas {testing_items}\")\n",
    "\n",
    "training_set = data[:training_items]\n",
    "testing_set = data[training_items:]\n",
    "\n",
    "df_training = pd.DataFrame(training_set,columns=columns)\n",
    "df_test = pd.DataFrame(testing_set,columns=columns)"
   ]
  },
  {
   "cell_type": "markdown",
   "metadata": {},
   "source": [
    "# Exploratorio"
   ]
  },
  {
   "cell_type": "markdown",
   "metadata": {},
   "source": [
    "## Media"
   ]
  },
  {
   "cell_type": "code",
   "execution_count": null,
   "metadata": {},
   "outputs": [],
   "source": [
    "mean = df.mean()\n",
    "print(mean)"
   ]
  },
  {
   "cell_type": "markdown",
   "metadata": {},
   "source": [
    "## Maximo"
   ]
  },
  {
   "cell_type": "code",
   "execution_count": null,
   "metadata": {},
   "outputs": [],
   "source": [
    "max = df.max()\n",
    "print(mean)"
   ]
  },
  {
   "cell_type": "markdown",
   "metadata": {},
   "source": [
    "## Minimo"
   ]
  },
  {
   "cell_type": "code",
   "execution_count": null,
   "metadata": {},
   "outputs": [],
   "source": [
    "min = df.min()\n",
    "print(min)"
   ]
  },
  {
   "cell_type": "markdown",
   "metadata": {},
   "source": [
    "## peak"
   ]
  },
  {
   "cell_type": "code",
   "execution_count": null,
   "metadata": {},
   "outputs": [],
   "source": [
    "peak = df.max() - df.min()\n",
    "print(peak)"
   ]
  },
  {
   "cell_type": "markdown",
   "metadata": {},
   "source": [
    "## Desviacion estandar"
   ]
  },
  {
   "cell_type": "code",
   "execution_count": null,
   "metadata": {},
   "outputs": [],
   "source": [
    "std = df.std()\n",
    "print(std)"
   ]
  },
  {
   "cell_type": "markdown",
   "metadata": {},
   "source": [
    "# Histograma"
   ]
  },
  {
   "cell_type": "code",
   "execution_count": null,
   "metadata": {},
   "outputs": [],
   "source": [
    "def histogram_show(column):\n",
    "    plt.figure(figsize=(50, 20)) \n",
    "    sns.displot(df[column], bins=15, kde=True) \n",
    "    plt.title(f\"{column}'s Histogram\")\n",
    "    plt.xlabel(column)\n",
    "    plt.ylabel(\"Frequency\")\n",
    "    plt.show()\n",
    "\n",
    "for columna in df.columns:\n",
    "    histogram_show(columna)"
   ]
  },
  {
   "cell_type": "markdown",
   "metadata": {},
   "source": [
    "# 5. Para cada variable independiente X"
   ]
  },
  {
   "cell_type": "code",
   "execution_count": null,
   "metadata": {},
   "outputs": [],
   "source": [
    "correlations = []\n",
    "y_key = \"SalePrice\"\n",
    "\n",
    "def create_catter_plot(x,y,x_name,y_name,title):\n",
    "    plt.scatter(x, y)\n",
    "    plt.xlabel(x_name)\n",
    "    plt.ylabel(y_name)\n",
    "    plt.title(title)\n",
    "    plt.show()\n",
    "\n",
    "for column in df.columns: \n",
    "    if(column == y_key):\n",
    "        continue\n",
    "    correlation = df[column].corr(df[y_key])\n",
    "    print(f\"variable: '{column}' correlacion: {correlation}\")\n",
    "    correlations.append((column,y_key,correlation))\n",
    "\n",
    "correlations =  sorted(correlations, key=lambda x: x[2], reverse=True)\n"
   ]
  },
  {
   "cell_type": "code",
   "execution_count": null,
   "metadata": {},
   "outputs": [],
   "source": [
    "for item in correlations:\n",
    "    print(item)\n",
    "    x_key = item[0]\n",
    "    y_key = item[1]\n",
    "    correlation = item[2]\n",
    "    create_catter_plot(df[x_key],df[y_key],x_key,y_key,correlation)\n"
   ]
  },
  {
   "cell_type": "markdown",
   "metadata": {},
   "source": [
    "## Mejores 2 variables"
   ]
  },
  {
   "cell_type": "code",
   "execution_count": null,
   "metadata": {},
   "outputs": [],
   "source": [
    "first_var = correlations[0]\n",
    "second_var = correlations[1]\n",
    "\n",
    "print(f\"La mejor variable es: {first_var[0]}, con una correlacion de {first_var[2]}\")\n",
    "print(f\"La segunda mejor variable es: {second_var[0]}, con una correlacion de {second_var[2]}\")"
   ]
  },
  {
   "cell_type": "markdown",
   "metadata": {},
   "source": [
    "# Crear funcion para entrenar modelo"
   ]
  },
  {
   "cell_type": "code",
   "execution_count": null,
   "metadata": {},
   "outputs": [],
   "source": [
    "\n",
    "    \n",
    "#training_func()\n",
    "\n",
    "\n",
    "\n",
    "def training_func(x,y,alpha, epochs = 200):\n",
    "    n = len(x)\n",
    "    \n",
    "    betas = np.array([0,0])\n",
    "    \n",
    "    y_hat = 0\n",
    "    \n",
    "    models = []\n",
    "    \n",
    "    for epoch in range(epochs) :\n",
    "\n",
    "        X_b = np.c_[np.ones((n, 1)), x] \n",
    "        y_hat = np.dot(X_b, betas)\n",
    "        \n",
    "        error_betas = np.array([np.sum((y_hat - y)),np.sum((y_hat - y)*x)])\n",
    "        error_betas = np.dot(1/n,error_betas)\n",
    "\n",
    "        betas = betas - alpha*error_betas\n",
    "\n",
    "        error = (1/(2*n)) *  np.sum((y - y_hat)**2)\n",
    "        \n",
    "        model = {\n",
    "            \"beta0\":error_betas[0],\n",
    "            \"beta1\":error_betas[1],\n",
    "        }\n",
    "        \n",
    "        models.append({\n",
    "            \"epoch\":epoch,\n",
    "            \"model\":model,\n",
    "            \"error\":error\n",
    "        })\n",
    "        \n",
    "    return {\n",
    "        \"models\":models,\n",
    "        \"prediction\":y_hat\n",
    "    }\n",
    "    \n",
    "x = df_training[first_var[0]]\n",
    "y = df_training[y_key]\n",
    "alpha = 0.04312\n",
    "trained = training_func(x,y,alpha)\n"
   ]
  },
  {
   "cell_type": "code",
   "execution_count": null,
   "metadata": {},
   "outputs": [],
   "source": [
    "\n",
    "\n",
    "def graph_error(params):\n",
    "    \n",
    "    errors = []\n",
    "    for epoc in params[\"models\"]:\n",
    "        errors.append(epoc[\"error\"])\n",
    "    \n",
    "    plt.figure(figsize=(10, 6))\n",
    "    plt.plot(errors, marker='o', linestyle='-', color='blue')  \n",
    "    plt.title('Error por epoch') \n",
    "    plt.xlabel('Epochs') \n",
    "    plt.ylabel('Error') \n",
    "    plt.grid(True) \n",
    "    plt.show() \n",
    "    \n",
    "graph_error(trained)"
   ]
  },
  {
   "cell_type": "code",
   "execution_count": null,
   "metadata": {},
   "outputs": [],
   "source": [
    "def graph_evolution(params,n):\n",
    "    if n < 0:\n",
    "        n = 1\n",
    "        \n",
    "    epochs = []\n",
    "    iter = 1\n",
    "    plt.figure(figsize=(10, 6))\n",
    "    \n",
    "    \n",
    "    plt_iters = []\n",
    "    plt_betas0 = []\n",
    "    plt_betas1 = []\n",
    "    \n",
    "    for epoch in params[\"models\"]:\n",
    "        if(n == iter):\n",
    "            epochs.append(epoch)\n",
    "            \n",
    "            model = epoch[\"model\"]\n",
    "            \n",
    "            iter_id = epoch[\"epoch\"]\n",
    "            \n",
    "            iter_beta0 = model[\"beta0\"]\n",
    "            iter_beta1 = model[\"beta1\"]\n",
    "            \n",
    "            plt_iters.append(iter_id)\n",
    "            plt_betas0.append(iter_beta0)\n",
    "            plt_betas1.append(iter_beta1)\n",
    "            \n",
    "            \n",
    "            iter = 1\n",
    "        else:\n",
    "            iter = iter + 1\n",
    "            \n",
    "    print(plt_betas1)\n",
    "    \n",
    "    plt.scatter( plt_iters,plt_betas0, color='blue', label='Beta 0')\n",
    "    plt.scatter( plt_iters,plt_betas1, color='red', label='Beta 1')\n",
    "    \n",
    "    \n",
    "    plt.title('Evolución del Modelo')\n",
    "    plt.xlabel('Iteracion')\n",
    "    plt.ylabel('Parametros')\n",
    "    plt.legend()\n",
    "    plt.show()\n",
    "    \n",
    "graph_evolution(trained,2)"
   ]
  },
  {
   "cell_type": "markdown",
   "metadata": {},
   "source": [
    "# Comparacion para elegir epochs y alpha"
   ]
  },
  {
   "cell_type": "markdown",
   "metadata": {},
   "source": [
    "## Epochs primera variable"
   ]
  },
  {
   "cell_type": "code",
   "execution_count": null,
   "metadata": {},
   "outputs": [],
   "source": [
    "x = df_training[first_var[0]]\n",
    "y = df_training[y_key]\n",
    "\n",
    "epoch_test_list = [5,10,20,30,40,80,500,1000]\n",
    "alpha = 0.04312\n",
    "\n",
    "for epoch_test in epoch_test_list:\n",
    "    res = training_func(x,y,alpha,epoch_test)\n",
    "    graph_error(res)"
   ]
  },
  {
   "cell_type": "markdown",
   "metadata": {},
   "source": [
    "## Alpha primera variable"
   ]
  },
  {
   "cell_type": "code",
   "execution_count": null,
   "metadata": {},
   "outputs": [],
   "source": [
    "x = df_training[first_var[0]]\n",
    "y = df_training[y_key]\n",
    "\n",
    "alpha_test_list = [  0.00001, 0.02, 0.03,0.04312,0.045,0.051,0.06,0.07,0.1]\n",
    "alpha = 0.04312\n",
    "\n",
    "for alpha_test in alpha_test_list:\n",
    "    res = training_func(x,y,alpha_test,100)\n",
    "    graph_error(res)"
   ]
  },
  {
   "cell_type": "markdown",
   "metadata": {},
   "source": [
    "### Resultados para variable 1"
   ]
  },
  {
   "cell_type": "markdown",
   "metadata": {},
   "source": [
    "### Valor para alpha: 0.04312\n",
    "### Valor para epoch: 100"
   ]
  },
  {
   "cell_type": "markdown",
   "metadata": {},
   "source": [
    "## Alpha segunda variable"
   ]
  },
  {
   "cell_type": "code",
   "execution_count": null,
   "metadata": {},
   "outputs": [],
   "source": [
    "x = df_training[second_var[0]]\n",
    "y = df_training[y_key]\n",
    "\n",
    "\n",
    "alpha_test_list = [  0.000001,0.0000012,0.0000013,0.0000014,0.0000015,0.000002]\n",
    "#0.0000013\n",
    "for alpha_test in alpha_test_list:\n",
    "    res = training_func(x,y,alpha_test,200)\n",
    "    print(f\"valor de alpha: {alpha_test}\")\n",
    "    graph_error(res)"
   ]
  },
  {
   "cell_type": "markdown",
   "metadata": {},
   "source": [
    "## Epoch segunda variable"
   ]
  },
  {
   "cell_type": "code",
   "execution_count": null,
   "metadata": {},
   "outputs": [],
   "source": [
    "x = df_training[second_var[0]]\n",
    "y = df_training[y_key]\n",
    "\n",
    "\n",
    "epoch_test_list = [  2,5,10,20,50,100,200]\n",
    "alpha = 0.0000013\n",
    "#epoch 100\n",
    "for epoch_test in epoch_test_list:\n",
    "    res = training_func(x,y,alpha,epoch_test)\n",
    "    print(f\"valor de epoch: {epoch_test}\")\n",
    "    graph_error(res)"
   ]
  },
  {
   "cell_type": "markdown",
   "metadata": {},
   "source": [
    "## Segunda variable\n",
    "### Valor para alpha: 0.0000013\n",
    "### Valor para epoch: 100"
   ]
  },
  {
   "cell_type": "code",
   "execution_count": null,
   "metadata": {},
   "outputs": [],
   "source": [
    "x = df_training[[second_var[0]]]\n",
    "y = df_training[y_key]\n",
    "reg = LinearRegression().fit(x, y)\n",
    "\n"
   ]
  }
 ],
 "metadata": {
  "kernelspec": {
   "display_name": "Python 3",
   "language": "python",
   "name": "python3"
  },
  "language_info": {
   "codemirror_mode": {
    "name": "ipython",
    "version": 3
   },
   "file_extension": ".py",
   "mimetype": "text/x-python",
   "name": "python",
   "nbconvert_exporter": "python",
   "pygments_lexer": "ipython3",
   "version": "3.11.4"
  }
 },
 "nbformat": 4,
 "nbformat_minor": 2
}
